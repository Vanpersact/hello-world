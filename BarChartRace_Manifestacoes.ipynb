{
 "cells": [
  {
   "cell_type": "markdown",
   "id": "6cc1118e",
   "metadata": {},
   "source": [
    "\n",
    "# Bar Chart Race — Manifestações por período (diário/mensal)\n",
    "\n",
    "Gera um **ranking animado** a partir de uma base em formato longo com:\n",
    "\n",
    "- `data` (YYYY-MM-DD ou YYYY-MM)\n",
    "- `categoria` (ex.: Linha, Tipo)\n",
    "- `valor` (quantidade no período)\n",
    "\n",
    "Ajuste as variáveis na seção **Configuração** e rode as células.\n"
   ]
  },
  {
   "cell_type": "code",
   "execution_count": null,
   "id": "4f166b1d",
   "metadata": {},
   "outputs": [],
   "source": [
    "\n",
    "# Bibliotecas\n",
    "import os, math\n",
    "import pandas as pd\n",
    "import numpy as np\n",
    "import matplotlib.pyplot as plt\n",
    "from matplotlib import animation\n",
    "from matplotlib.animation import PillowWriter\n",
    "\n",
    "pd.set_option(\"display.max_rows\", 10)\n"
   ]
  },
  {
   "cell_type": "markdown",
   "id": "2ab63f9c",
   "metadata": {},
   "source": [
    "\n",
    "## 1) Configuração\n"
   ]
  },
  {
   "cell_type": "code",
   "execution_count": null,
   "id": "695c01b5",
   "metadata": {},
   "outputs": [],
   "source": [
    "\n",
    "# >>>>>>> edite aqui <<<<<<<\n",
    "ARQUIVO_DADOS = None  # ex.: \"manifestacoes.csv\"  (deixe None para usar um exemplo sintético)\n",
    "FREQ = \"M\"            # \"D\" = diário | \"M\" = mensal\n",
    "TOP_N = 10            # Top N do ranking\n",
    "STEPS_PER_PERIOD = 10 # suavização (maior = mais liso e mais pesado)\n",
    "FPS = 20              # frames por segundo\n",
    "SAIDA = \"bar_chart_race_manifestacoes.gif\"  # .gif (Pillow) ou .mp4 (se FFMPEG disponível)\n",
    "\n",
    "# Se suas colunas tiverem outros nomes, ajuste aqui:\n",
    "COL_DATA = \"data\"\n",
    "COL_CATEGORIA = \"categoria\"\n",
    "COL_VALOR = \"valor\"\n"
   ]
  },
  {
   "cell_type": "markdown",
   "id": "a1b4ded7",
   "metadata": {},
   "source": [
    "\n",
    "## 2) Carregamento da base\n"
   ]
  },
  {
   "cell_type": "code",
   "execution_count": null,
   "id": "edd5520a",
   "metadata": {},
   "outputs": [],
   "source": [
    "\n",
    "def carregar_base(arquivo):\n",
    "    if arquivo is None:\n",
    "        # Exemplo sintético para você ver funcionando\n",
    "        rng = pd.date_range(\"2024-01-01\", \"2025-07-31\", freq=\"D\")\n",
    "        linhas = [\"Linha 7\",\"Linha 10\",\"Linha 11\",\"Linha 12\",\"Linha 13\"]\n",
    "        dados = []\n",
    "        rs = np.random.RandomState(42)\n",
    "        for d in rng:\n",
    "            base = rs.poisson(lam=[40,28,25,35,30]).astype(float)\n",
    "            saz = 10*np.sin(2*np.pi*(d.dayofyear)/365.0)\n",
    "            base = base + saz + rs.normal(0,5,len(base))\n",
    "            for cat, v in zip(linhas, base):\n",
    "                dados.append([d, cat, max(0, int(round(v)))])\n",
    "        df = pd.DataFrame(dados, columns=[COL_DATA, COL_CATEGORIA, COL_VALOR])\n",
    "    else:\n",
    "        if arquivo.lower().endswith(\".csv\"):\n",
    "            df = pd.read_csv(arquivo)\n",
    "        else:\n",
    "            df = pd.read_excel(arquivo)\n",
    "        cols_lower = {c.lower(): c for c in df.columns}\n",
    "        for alvo, candidatos in [(COL_DATA, [\"data\",\"mes_ano\",\"mesano\",\"mes\",\"dia\",\"date\"]), \n",
    "                                 (COL_CATEGORIA, [\"categoria\",\"linha\",\"tipo\",\"classe\"]),\n",
    "                                 (COL_VALOR, [\"valor\",\"qtd\",\"quantidade\",\"manifestacoes\",\"manifestações\",\"volume\"])]:\n",
    "            if alvo not in df.columns:\n",
    "                for c in candidatos:\n",
    "                    if c in cols_lower:\n",
    "                        df.rename(columns={cols_lower[c]: alvo}, inplace=True)\n",
    "                        break\n",
    "        if COL_DATA not in df.columns or COL_CATEGORIA not in df.columns or COL_VALOR not in df.columns:\n",
    "            raise ValueError(\"A base deve conter colunas equivalentes a: data, categoria, valor.\")\n",
    "    df[COL_DATA] = pd.to_datetime(df[COL_DATA], errors=\"coerce\")\n",
    "    df = df.dropna(subset=[COL_DATA, COL_CATEGORIA, COL_VALOR]).copy()\n",
    "    df[COL_CATEGORIA] = df[COL_CATEGORIA].astype(str)\n",
    "    df[COL_VALOR] = pd.to_numeric(df[COL_VALOR], errors=\"coerce\").fillna(0).astype(int)\n",
    "    return df\n",
    "\n",
    "df_long = carregar_base(ARQUIVO_DADOS)\n",
    "df_long.head()\n"
   ]
  },
  {
   "cell_type": "markdown",
   "id": "204e4152",
   "metadata": {},
   "source": [
    "\n",
    "## 3) Preparação do painel\n"
   ]
  },
  {
   "cell_type": "code",
   "execution_count": null,
   "id": "e31e5c45",
   "metadata": {},
   "outputs": [],
   "source": [
    "\n",
    "def preparar_painel(df, freq=\"M\"):\n",
    "    df = df.copy()\n",
    "    if freq not in (\"D\",\"M\"):\n",
    "        raise ValueError(\"freq deve ser 'D' (diário) ou 'M' (mensal).\")\n",
    "    if freq == \"M\":\n",
    "        df[\"periodo\"] = df[COL_DATA].dt.to_period(\"M\").dt.to_timestamp()\n",
    "    else:\n",
    "        df[\"periodo\"] = df[COL_DATA].dt.floor(\"D\")\n",
    "    agg = (df.groupby([\"periodo\", COL_CATEGORIA], as_index=False)[COL_VALOR].sum()\n",
    "             .sort_values([\"periodo\", COL_VALOR], ascending=[True, False]))\n",
    "    painel = agg.pivot_table(index=\"periodo\", columns=COL_CATEGORIA, values=COL_VALOR, fill_value=0)\n",
    "    painel = painel.sort_index()\n",
    "    return painel, agg\n",
    "\n",
    "painel, agg = preparar_painel(df_long, FREQ)\n",
    "painel.head()\n"
   ]
  },
  {
   "cell_type": "markdown",
   "id": "4f2c01e2",
   "metadata": {},
   "source": [
    "\n",
    "## 4) Função do bar chart race\n"
   ]
  },
  {
   "cell_type": "code",
   "execution_count": null,
   "id": "0b5b8953",
   "metadata": {},
   "outputs": [],
   "source": [
    "\n",
    "from matplotlib.cm import get_cmap\n",
    "\n",
    "def bar_chart_race(painel, top_n=10, steps_per_period=10, fps=20, saida=\"bar_chart_race.gif\", titulo=None):\n",
    "    painel = painel.copy().astype(float).fillna(0.0)\n",
    "    periods = painel.index.to_list()\n",
    "    cats = list(painel.columns)\n",
    "    cmap = get_cmap(\"tab20\")\n",
    "    cores = {c: cmap(i % 20) for i, c in enumerate(sorted(cats))}\n",
    "    frames = []\n",
    "    for i in range(len(periods)-1):\n",
    "        a, b = periods[i], periods[i+1]\n",
    "        va = painel.loc[a]\n",
    "        vb = painel.loc[b]\n",
    "        union_cats = sorted(set(va.index) | set(vb.index))\n",
    "        va = va.reindex(union_cats).fillna(0)\n",
    "        vb = vb.reindex(union_cats).fillna(0)\n",
    "        for s in range(steps_per_period):\n",
    "            t = s / float(steps_per_period)\n",
    "            v = va*(1-t) + vb*t\n",
    "            frames.append((a, v))\n",
    "    frames.append((periods[-1], painel.iloc[-1].reindex(cats).fillna(0)))\n",
    "    fig, ax = plt.subplots(figsize=(10, 6))\n",
    "    ax.set_facecolor(\"#f8f8f8\")\n",
    "    fig.patch.set_facecolor(\"#f8f8f8\")\n",
    "    ax.grid(axis=\"x\", zorder=0, linestyle=\"--\", alpha=0.3)\n",
    "    title_text = ax.text(0.5, 1.05, titulo or \"Bar Chart Race\", transform=ax.transAxes,\n",
    "                         ha=\"center\", va=\"bottom\", fontsize=16, weight=\"bold\")\n",
    "    date_text = ax.text(0.98, 0.95, \"\", transform=ax.transAxes, ha=\"right\", va=\"top\",\n",
    "                        fontsize=12, family=\"monospace\")\n",
    "    def draw_frame(frame_data):\n",
    "        periodo, valores = frame_data\n",
    "        ax.clear()\n",
    "        ax.set_facecolor(\"#f8f8f8\")\n",
    "        ax.grid(axis=\"x\", zorder=0, linestyle=\"--\", alpha=0.3)\n",
    "        top = valores.sort_values(ascending=False).head(top_n)[::-1]\n",
    "        ax.barh(top.index, top.values, color=[cores[c] for c in top.index], zorder=3)\n",
    "        for cat, val in zip(top.index, top.values):\n",
    "            ax.text(val, cat, f\" {int(val):,}\".replace(\",\", \".\"), va=\"center\", ha=\"left\", fontsize=11)\n",
    "        ax.set_xlim(0, max(1, valores.max())*1.15)\n",
    "        ax.set_xlabel(\"Quantidade\")\n",
    "        ax.set_ylabel(\"Categoria\")\n",
    "        title_text.set_text(titulo or \"Bar Chart Race\")\n",
    "        date_text.set_text(pd.to_datetime(periodo).strftime(\"%Y-%m-%d\"))\n",
    "    ani = animation.FuncAnimation(fig, draw_frame, frames=frames, interval=1000/fps, blit=False, repeat=False)\n",
    "    if saida.lower().endswith(\".gif\"):\n",
    "        ani.save(saida, writer=PillowWriter(fps=fps))\n",
    "    else:\n",
    "        try:\n",
    "            ani.save(saida, fps=fps)\n",
    "        except Exception as e:\n",
    "            print(\"FFMPEG não disponível. Salve como .gif ou instale FFMPEG. Erro:\", e)\n",
    "    plt.close(fig)\n",
    "    return saida\n"
   ]
  },
  {
   "cell_type": "markdown",
   "id": "d6c87080",
   "metadata": {},
   "source": [
    "\n",
    "## 5) Gerar o GIF/MP4\n"
   ]
  },
  {
   "cell_type": "code",
   "execution_count": null,
   "id": "d2dcff33",
   "metadata": {},
   "outputs": [],
   "source": [
    "\n",
    "titulo = f\"Manifestações — Ranking por {('dia' if FREQ=='D' else 'mês')} (Top {TOP_N})\"\n",
    "arquivo_saida = bar_chart_race(\n",
    "    painel,\n",
    "    top_n=TOP_N,\n",
    "    steps_per_period=STEPS_PER_PERIOD,\n",
    "    fps=FPS,\n",
    "    saida=SAIDA,\n",
    "    titulo=titulo\n",
    ")\n",
    "arquivo_saida\n"
   ]
  }
 ],
 "metadata": {},
 "nbformat": 4,
 "nbformat_minor": 5
}
