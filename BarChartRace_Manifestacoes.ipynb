{
  "cells": [
    {
      "cell_type": "markdown",
      "metadata": {
        "id": "view-in-github",
        "colab_type": "text"
      },
      "source": [
        "<a href=\"https://colab.research.google.com/github/Vanpersact/hello-world/blob/main/BarChartRace_Manifestacoes.ipynb\" target=\"_parent\"><img src=\"https://colab.research.google.com/assets/colab-badge.svg\" alt=\"Open In Colab\"/></a>"
      ]
    },
    {
      "cell_type": "markdown",
      "id": "6cc1118e",
      "metadata": {
        "id": "6cc1118e"
      },
      "source": [
        "\n",
        "# Bar Chart Race — Manifestações por período (diário/mensal)\n",
        "\n",
        "Gera um **ranking animado** a partir de uma base em formato longo com:\n",
        "\n",
        "- `data` (YYYY-MM-DD ou YYYY-MM)\n",
        "- `categoria` (ex.: Linha, Tipo)\n",
        "- `valor` (quantidade no período)\n",
        "\n",
        "Ajuste as variáveis na seção **Configuração** e rode as células.\n"
      ]
    },
    {
      "cell_type": "code",
      "execution_count": 24,
      "id": "4f166b1d",
      "metadata": {
        "id": "4f166b1d"
      },
      "outputs": [],
      "source": [
        "\n",
        "# Bibliotecas\n",
        "import os, math\n",
        "import pandas as pd\n",
        "import numpy as np\n",
        "import matplotlib.pyplot as plt\n",
        "from matplotlib import animation\n",
        "from matplotlib.animation import PillowWriter\n",
        "\n",
        "pd.set_option(\"display.max_rows\", 10)\n"
      ]
    },
    {
      "cell_type": "markdown",
      "id": "2ab63f9c",
      "metadata": {
        "id": "2ab63f9c"
      },
      "source": [
        "\n",
        "## 1) Configuração\n"
      ]
    },
    {
      "cell_type": "code",
      "execution_count": 25,
      "id": "695c01b5",
      "metadata": {
        "id": "695c01b5"
      },
      "outputs": [],
      "source": [
        "\n",
        "# >>>>>>> edite aqui <<<<<<<\n",
        "ARQUIVO_DADOS = \"Manifestacoes.csv\"   # ex.: \"manifestacoes.csv\"  (deixe None para usar um exemplo sintético)\n",
        "FREQ = \"D\"            # \"D\" = diário | \"M\" = mensal\n",
        "TOP_N = 20            # Top N do ranking\n",
        "STEPS_PER_PERIOD = 10 # suavização (maior = mais liso e mais pesado)\n",
        "FPS = 20              # frames por segundo\n",
        "SAIDA = \"bar_chart_race_manifestacoes.gif\"  # .gif (Pillow) ou .mp4 (se FFMPEG disponível)\n",
        "\n",
        "# Se suas colunas tiverem outros nomes, ajuste aqui:\n",
        "COL_DATA = \"DIA\"\n",
        "COL_CATEGORIA = \"MOTIVO\"\n",
        "COL_VALOR = \"QTDE\"\n"
      ]
    },
    {
      "cell_type": "markdown",
      "id": "a1b4ded7",
      "metadata": {
        "id": "a1b4ded7"
      },
      "source": [
        "\n",
        "## 2) Carregamento da base\n"
      ]
    },
    {
      "cell_type": "code",
      "execution_count": 26,
      "id": "edd5520a",
      "metadata": {
        "id": "edd5520a"
      },
      "outputs": [],
      "source": [
        "\n",
        "def carregar_base(arquivo):\n",
        "    import pandas as pd\n",
        "\n",
        "    # 1) Leitura (autodetecta separador de CSV)\n",
        "    if arquivo.lower().endswith(\".csv\"):\n",
        "        df = pd.read_csv(arquivo, sep=None, engine=\"python\", encoding=\"utf-8-sig\")\n",
        "    else:\n",
        "        df = pd.read_excel(arquivo)\n",
        "\n",
        "    # 2) Normaliza nomes de colunas para minúsculas e sem espaços\n",
        "    df.rename(columns={c: c.strip().lower() for c in df.columns}, inplace=True)\n",
        "\n",
        "    # 3) Mapeia sinônimos -> alvos ('data', 'categoria', 'valor')\n",
        "    wanted = {\n",
        "        \"data\":      [\"data\", \"dia\", \"mes_ano\", \"mesano\", \"mes\", \"date\"],\n",
        "        \"categoria\": [\"categoria\", \"linha\", \"motivo\", \"tipo\", \"classe\"],\n",
        "        \"valor\":     [\"valor\", \"qtd\", \"qtde\", \"quantidade\", \"manifestacoes\", \"manifestações\", \"volume\"],\n",
        "    }\n",
        "\n",
        "    for target, candidates in wanted.items():\n",
        "        if target not in df.columns:\n",
        "            for cand in candidates:\n",
        "                if cand in df.columns:\n",
        "                    df.rename(columns={cand: target}, inplace=True)\n",
        "                    break\n",
        "\n",
        "    # 4) Checagem final\n",
        "    missing = [c for c in [\"data\", \"categoria\", \"valor\"] if c not in df.columns]\n",
        "    if missing:\n",
        "        raise ValueError(f\"Colunas ausentes: {missing}. Colunas encontradas: {list(df.columns)}\")\n",
        "\n",
        "    # 5) Tipagem/limpeza\n",
        "    # dayfirst=True cobre datas no padrão brasileiro (dd/mm/aaaa)\n",
        "    df[\"data\"] = pd.to_datetime(df[\"data\"], errors=\"coerce\", dayfirst=True)\n",
        "    df = df.dropna(subset=[\"data\", \"categoria\", \"valor\"]).copy()\n",
        "\n",
        "    df[\"categoria\"] = df[\"categoria\"].astype(str).str.strip()\n",
        "    df[\"valor\"] = pd.to_numeric(df[\"valor\"], errors=\"coerce\").fillna(0).astype(int)\n",
        "\n",
        "    return df"
      ]
    },
    {
      "cell_type": "markdown",
      "id": "204e4152",
      "metadata": {
        "id": "204e4152"
      },
      "source": [
        "\n",
        "## 3) Preparação do painel\n"
      ]
    },
    {
      "cell_type": "code",
      "execution_count": 27,
      "id": "e31e5c45",
      "metadata": {
        "colab": {
          "base_uri": "https://localhost:8080/",
          "height": 193
        },
        "id": "e31e5c45",
        "outputId": "ea10d91e-4a36-4f2c-9825-a830d88665b3"
      },
      "outputs": [
        {
          "output_type": "error",
          "ename": "NameError",
          "evalue": "name 'df' is not defined",
          "traceback": [
            "\u001b[0;31m---------------------------------------------------------------------------\u001b[0m",
            "\u001b[0;31mNameError\u001b[0m                                 Traceback (most recent call last)",
            "\u001b[0;32m/tmp/ipython-input-1698114001.py\u001b[0m in \u001b[0;36m<cell line: 0>\u001b[0;34m()\u001b[0m\n\u001b[1;32m     13\u001b[0m     \u001b[0;32mreturn\u001b[0m \u001b[0mpainel\u001b[0m\u001b[0;34m,\u001b[0m \u001b[0magg\u001b[0m\u001b[0;34m\u001b[0m\u001b[0;34m\u001b[0m\u001b[0m\n\u001b[1;32m     14\u001b[0m \u001b[0;34m\u001b[0m\u001b[0m\n\u001b[0;32m---> 15\u001b[0;31m \u001b[0mpainel\u001b[0m\u001b[0;34m,\u001b[0m \u001b[0magg\u001b[0m \u001b[0;34m=\u001b[0m \u001b[0mpreparar_painel\u001b[0m\u001b[0;34m(\u001b[0m\u001b[0mdf\u001b[0m\u001b[0;34m,\u001b[0m \u001b[0mFREQ\u001b[0m\u001b[0;34m)\u001b[0m\u001b[0;34m\u001b[0m\u001b[0;34m\u001b[0m\u001b[0m\n\u001b[0m\u001b[1;32m     16\u001b[0m \u001b[0mpainel\u001b[0m\u001b[0;34m.\u001b[0m\u001b[0mhead\u001b[0m\u001b[0;34m(\u001b[0m\u001b[0;34m)\u001b[0m\u001b[0;34m\u001b[0m\u001b[0;34m\u001b[0m\u001b[0m\n",
            "\u001b[0;31mNameError\u001b[0m: name 'df' is not defined"
          ]
        }
      ],
      "source": [
        "\n",
        "def preparar_painel(df, freq=\"D\"):\n",
        "    df = df.copy()\n",
        "    if freq not in (\"D\",\"M\"):\n",
        "        raise ValueError(\"freq deve ser 'D' (diário) ou 'M' (mensal).\")\n",
        "    if freq == \"M\":\n",
        "        df[\"periodo\"] = df[COL_DATA].dt.to_period(\"M\").dt.to_timestamp()\n",
        "    else:\n",
        "        df[\"periodo\"] = df[COL_DATA].dt.floor(\"D\")\n",
        "    agg = (df.groupby([\"periodo\", COL_CATEGORIA], as_index=False)[COL_VALOR].sum()\n",
        "             .sort_values([\"periodo\", COL_VALOR], ascending=[True, False]))\n",
        "    painel = agg.pivot_table(index=\"periodo\", columns=COL_CATEGORIA, values=COL_VALOR, fill_value=0)\n",
        "    painel = painel.sort_index()\n",
        "    return painel, agg\n",
        "\n",
        "painel, agg = preparar_painel(df, FREQ)\n",
        "painel.head()\n"
      ]
    },
    {
      "cell_type": "markdown",
      "id": "4f2c01e2",
      "metadata": {
        "id": "4f2c01e2"
      },
      "source": [
        "\n",
        "## 4) Função do bar chart race\n"
      ]
    },
    {
      "cell_type": "code",
      "execution_count": null,
      "id": "0b5b8953",
      "metadata": {
        "id": "0b5b8953"
      },
      "outputs": [],
      "source": [
        "\n",
        "from matplotlib.cm import get_cmap\n",
        "\n",
        "def bar_chart_race(painel, top_n=10, steps_per_period=10, fps=20, saida=\"bar_chart_race.gif\", titulo=None):\n",
        "    painel = painel.copy().astype(float).fillna(0.0)\n",
        "    periods = painel.index.to_list()\n",
        "    cats = list(painel.columns)\n",
        "    cmap = get_cmap(\"tab20\")\n",
        "    cores = {c: cmap(i % 20) for i, c in enumerate(sorted(cats))}\n",
        "    frames = []\n",
        "    for i in range(len(periods)-1):\n",
        "        a, b = periods[i], periods[i+1]\n",
        "        va = painel.loc[a]\n",
        "        vb = painel.loc[b]\n",
        "        union_cats = sorted(set(va.index) | set(vb.index))\n",
        "        va = va.reindex(union_cats).fillna(0)\n",
        "        vb = vb.reindex(union_cats).fillna(0)\n",
        "        for s in range(steps_per_period):\n",
        "            t = s / float(steps_per_period)\n",
        "            v = va*(1-t) + vb*t\n",
        "            frames.append((a, v))\n",
        "    frames.append((periods[-1], painel.iloc[-1].reindex(cats).fillna(0)))\n",
        "    fig, ax = plt.subplots(figsize=(10, 6))\n",
        "    ax.set_facecolor(\"#f8f8f8\")\n",
        "    fig.patch.set_facecolor(\"#f8f8f8\")\n",
        "    ax.grid(axis=\"x\", zorder=0, linestyle=\"--\", alpha=0.3)\n",
        "    title_text = ax.text(0.5, 1.05, titulo or \"Bar Chart Race\", transform=ax.transAxes,\n",
        "                         ha=\"center\", va=\"bottom\", fontsize=16, weight=\"bold\")\n",
        "    date_text = ax.text(0.98, 0.95, \"\", transform=ax.transAxes, ha=\"right\", va=\"top\",\n",
        "                        fontsize=12, family=\"monospace\")\n",
        "    def draw_frame(frame_data):\n",
        "        periodo, valores = frame_data\n",
        "        ax.clear()\n",
        "        ax.set_facecolor(\"#f8f8f8\")\n",
        "        ax.grid(axis=\"x\", zorder=0, linestyle=\"--\", alpha=0.3)\n",
        "        top = valores.sort_values(ascending=False).head(top_n)[::-1]\n",
        "        ax.barh(top.index, top.values, color=[cores[c] for c in top.index], zorder=3)\n",
        "        for cat, val in zip(top.index, top.values):\n",
        "            ax.text(val, cat, f\" {int(val):,}\".replace(\",\", \".\"), va=\"center\", ha=\"left\", fontsize=11)\n",
        "        ax.set_xlim(0, max(1, valores.max())*1.15)\n",
        "        ax.set_xlabel(\"Quantidade\")\n",
        "        ax.set_ylabel(\"Categoria\")\n",
        "        title_text.set_text(titulo or \"Bar Chart Race\")\n",
        "        date_text.set_text(pd.to_datetime(periodo).strftime(\"%Y-%m-%d\"))\n",
        "    ani = animation.FuncAnimation(fig, draw_frame, frames=frames, interval=1000/fps, blit=False, repeat=False)\n",
        "    if saida.lower().endswith(\".gif\"):\n",
        "        ani.save(saida, writer=PillowWriter(fps=fps))\n",
        "    else:\n",
        "        try:\n",
        "            ani.save(saida, fps=fps)\n",
        "        except Exception as e:\n",
        "            print(\"FFMPEG não disponível. Salve como .gif ou instale FFMPEG. Erro:\", e)\n",
        "    plt.close(fig)\n",
        "    return saida\n"
      ]
    },
    {
      "cell_type": "markdown",
      "id": "d6c87080",
      "metadata": {
        "id": "d6c87080"
      },
      "source": [
        "\n",
        "## 5) Gerar o GIF/MP4\n"
      ]
    },
    {
      "cell_type": "code",
      "execution_count": null,
      "id": "d2dcff33",
      "metadata": {
        "id": "d2dcff33"
      },
      "outputs": [],
      "source": [
        "\n",
        "titulo = f\"Manifestações — Ranking por {('dia' if FREQ=='D' else 'mês')} (Top {TOP_N})\"\n",
        "arquivo_saida = bar_chart_race(\n",
        "    painel,\n",
        "    top_n=TOP_N,\n",
        "    steps_per_period=STEPS_PER_PERIOD,\n",
        "    fps=FPS,\n",
        "    saida=SAIDA,\n",
        "    titulo=titulo\n",
        ")\n",
        "arquivo_saida\n"
      ]
    }
  ],
  "metadata": {
    "colab": {
      "provenance": [],
      "include_colab_link": true
    },
    "language_info": {
      "name": "python"
    },
    "kernelspec": {
      "name": "python3",
      "display_name": "Python 3"
    }
  },
  "nbformat": 4,
  "nbformat_minor": 5
}