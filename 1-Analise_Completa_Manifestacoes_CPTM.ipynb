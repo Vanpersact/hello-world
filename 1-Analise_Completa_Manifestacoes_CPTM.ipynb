{
 "cells": [
  {
   "cell_type": "code",
   "execution_count": null,
   "id": "e594e8c4",
   "metadata": {},
   "outputs": [],
   "source": [
    "# 📦 Instalar bibliotecas necessárias\n",
    "!pip install wordcloud pandas matplotlib seaborn openpyxl plotly\n"
   ]
  },
  {
   "cell_type": "code",
   "execution_count": null,
   "id": "709f07cb",
   "metadata": {},
   "outputs": [],
   "source": [
    "# 📚 Importação de bibliotecas\n",
    "import pandas as pd\n",
    "import matplotlib.pyplot as plt\n",
    "import seaborn as sns\n",
    "from wordcloud import WordCloud\n",
    "from collections import defaultdict, Counter\n",
    "import os\n",
    "import plotly.express as px\n",
    "from datetime import datetime\n"
   ]
  },
  {
   "cell_type": "code",
   "execution_count": null,
   "id": "eec161f9",
   "metadata": {},
   "outputs": [],
   "source": [
    "# 📁 Carregamento da base de dados\n",
    "arquivo = '/content/Manifestacoes_Abril2025.xlsx'\n",
    "df = pd.read_excel(arquivo)\n"
   ]
  },
  {
   "cell_type": "code",
   "execution_count": null,
   "id": "c047853f",
   "metadata": {},
   "outputs": [],
   "source": [
    "# 🛠️ Ajuste de colunas caso o cabeçalho esteja na linha 2\n",
    "if df.columns[0] != 'COD_MANIFESTACAO':\n",
    "    df.columns = df.iloc[0]\n",
    "    df = df[1:]\n",
    "    df.columns.name = None\n"
   ]
  },
  {
   "cell_type": "code",
   "execution_count": null,
   "id": "4f33dc86",
   "metadata": {},
   "outputs": [],
   "source": [
    "# 🏷️ Renomear colunas principais\n",
    "df = df.rename(columns={\n",
    "    \"COD_MANIFESTACAO\": \"COD_MANIFESTACAO\",\n",
    "    \"MOTIVO\": \"MOTIVO\",\n",
    "    \"DATA_MANIF\": \"DATA_MANIF\",\n",
    "    \"DIA_SEM\": \"DIA_SEM\",\n",
    "    \"DATA_OCOR\": \"DATA_OCOR\",\n",
    "    \"HORA_OCOR\": \"HORA_OCOR\",\n",
    "    \"LOCAL_REF\": \"LOCAL_REF\",\n",
    "    \"DESCRIÇÃO\": \"DESCRICAO\",\n",
    "    \"CLASSIFICACAO_MANIF\": \"CLASSIFICACAO_MANIF\",\n",
    "    df.columns[-1]: \"LINHA\"\n",
    "})\n"
   ]
  },
  {
   "cell_type": "code",
   "execution_count": null,
   "id": "302751f1",
   "metadata": {},
   "outputs": [],
   "source": [
    "# ⏱️ Conversão de tipos\n",
    "df[\"DATA_MANIF\"] = pd.to_datetime(df[\"DATA_MANIF\"], errors='coerce')\n",
    "df[\"DATA_OCOR\"] = pd.to_datetime(df[\"DATA_OCOR\"], errors='coerce')\n",
    "df[\"HORA_OCOR\"] = pd.to_numeric(df[\"HORA_OCOR\"], errors='coerce')\n"
   ]
  },
  {
   "cell_type": "code",
   "execution_count": null,
   "id": "ae25034c",
   "metadata": {},
   "outputs": [],
   "source": [
    "# 📊 Top 15 motivos de manifestação\n",
    "plt.figure(figsize=(12, 6))\n",
    "df[\"MOTIVO\"].value_counts().nlargest(15).plot(kind='barh', color='darkred')\n",
    "plt.title(\"Top 15 Motivos de Manifestação\")\n",
    "plt.xlabel(\"Frequência\")\n",
    "plt.gca().invert_yaxis()\n",
    "plt.grid(True)\n",
    "plt.tight_layout()\n",
    "plt.show()\n"
   ]
  },
  {
   "cell_type": "code",
   "execution_count": null,
   "id": "016d8576",
   "metadata": {},
   "outputs": [],
   "source": [
    "# 📅 Distribuição por dia da semana\n",
    "dias_ordenados = ['segunda-feira', 'terça-feira', 'quarta-feira', 'quinta-feira', 'sexta-feira', 'sábado', 'domingo']\n",
    "df[\"DIA_SEM\"] = df[\"DIA_SEM\"].str.lower()\n",
    "df[\"DIA_SEM\"] = pd.Categorical(df[\"DIA_SEM\"], categories=dias_ordenados, ordered=True)\n",
    "\n",
    "plt.figure(figsize=(10, 5))\n",
    "sns.countplot(data=df, x=\"DIA_SEM\", order=dias_ordenados, palette=\"Reds\")\n",
    "plt.title(\"Distribuição de Manifestações por Dia da Semana\")\n",
    "plt.ylabel(\"Quantidade\")\n",
    "plt.xlabel(\"Dia da Semana\")\n",
    "plt.xticks(rotation=45)\n",
    "plt.tight_layout()\n",
    "plt.show()\n"
   ]
  },
  {
   "cell_type": "code",
   "execution_count": null,
   "id": "01c4fa32",
   "metadata": {},
   "outputs": [],
   "source": [
    "# 🔥 Mapa de calor por hora e dia\n",
    "pivot = df.pivot_table(index=\"HORA_OCOR\", columns=\"DIA_SEM\", aggfunc=\"size\", fill_value=0)\n",
    "plt.figure(figsize=(12, 6))\n",
    "sns.heatmap(pivot, cmap=\"YlOrRd\", linewidths=0.3, linecolor='gray')\n",
    "plt.title(\"Mapa de Calor: Hora do Dia x Dia da Semana\")\n",
    "plt.xlabel(\"Dia da Semana\")\n",
    "plt.ylabel(\"Hora\")\n",
    "plt.tight_layout()\n",
    "plt.show()\n"
   ]
  },
  {
   "cell_type": "code",
   "execution_count": null,
   "id": "1ae12727",
   "metadata": {},
   "outputs": [],
   "source": [
    "# ☁️ Nuvem de palavras geral (todas as manifestações)\n",
    "texto = \" \".join(df[\"DESCRICAO\"].dropna().astype(str).tolist())\n",
    "wordcloud = WordCloud(width=1200, height=600, background_color='white', colormap='inferno', max_words=150).generate(texto)\n",
    "plt.figure(figsize=(12, 6))\n",
    "plt.imshow(wordcloud, interpolation='bilinear')\n",
    "plt.axis(\"off\")\n",
    "plt.title(\"Nuvem de Palavras - Todas as Manifestações\")\n",
    "plt.show()\n"
   ]
  },
  {
   "cell_type": "code",
   "execution_count": null,
   "id": "e8bfe622",
   "metadata": {},
   "outputs": [],
   "source": [
    "# 🎯 Foco em reclamações - apenas adjetivos (simulados)\n",
    "df_reclamacoes = df[df[\"CLASSIFICACAO_MANIF\"].str.upper() == \"RECLAMAÇÃO\"].copy()\n",
    "\n",
    "adjetivos_exemplo = [\n",
    "    'lento', 'sujo', 'barulhento', 'quente', 'frio', 'perigoso', 'velho', 'lotado', 'demorado',\n",
    "    'inseguro', 'desconfortável', 'escuro', 'caro', 'úmido', 'horrível', 'ruim', 'péssimo',\n",
    "    'fraco', 'frágil', 'instável', 'precário', 'ineficiente', 'insuficiente', 'revoltante',\n",
    "    'desumano', 'inaceitável', 'desagradável', 'injusto', 'problemático', 'difícil', 'caótico',\n",
    "    'quebrado', 'falho', 'irregular', 'frequente', 'inconstante', 'baixa', 'curto', 'agressivo',\n",
    "    'confuso', 'degradante', 'frustrante', 'impróprio', 'inadequado', 'insuportável', 'lamentável',\n",
    "    'mofado', 'obsoleto', 'pobre', 'saturado', 'sofrido', 'sufocante', 'tenso', 'triste', 'vazio',\n",
    "    'interminável', 'irresponsável', 'inoperante', 'defeituoso', 'danificado', 'parado', 'pior'\n",
    "]\n",
    "adjetivos_set = set([a.lower() for a in adjetivos_exemplo if len(a) >= 3])\n",
    "\n",
    "adjetivos_linha = defaultdict(list)\n",
    "for linha in df_reclamacoes[\"LINHA\"].unique():\n",
    "    descricoes = df_reclamacoes[df_reclamacoes[\"LINHA\"] == linha][\"DESCRICAO\"].dropna().astype(str).tolist()\n",
    "    palavras = \" \".join(descricoes).lower().split()\n",
    "    palavras_filtradas = [p for p in palavras if p in adjetivos_set]\n",
    "    adjetivos_linha[linha] = palavras_filtradas\n",
    "\n",
    "output_folder = \"/content/nuvens_adjetivos\"\n",
    "os.makedirs(output_folder, exist_ok=True)\n",
    "\n",
    "for linha, lista_adjetivos in adjetivos_linha.items():\n",
    "    if len(lista_adjetivos) < 5:\n",
    "        continue\n",
    "    texto_final = \" \".join(lista_adjetivos)\n",
    "    wordcloud = WordCloud(width=1000, height=500, background_color='white', colormap='inferno', max_words=100).generate(texto_final)\n",
    "    wordcloud.to_file(os.path.join(output_folder, f\"{linha.replace(' ', '_')}.png\"))\n"
   ]
  },
  {
   "cell_type": "code",
   "execution_count": null,
   "id": "79fba456",
   "metadata": {},
   "outputs": [],
   "source": [
    "# 📊 Ranking completo de adjetivos por linha\n",
    "ranking_completo = []\n",
    "for linha, lista_adjetivos in adjetivos_linha.items():\n",
    "    contagem = Counter(lista_adjetivos)\n",
    "    for adjetivo, freq in contagem.items():\n",
    "        ranking_completo.append({\n",
    "            \"Linha\": linha,\n",
    "            \"Adjetivo\": adjetivo,\n",
    "            \"Frequência\": freq\n",
    "        })\n",
    "\n",
    "df_ranking = pd.DataFrame(ranking_completo).sort_values(by=[\"Linha\", \"Frequência\"], ascending=[True, False])\n",
    "df_ranking.to_excel(\"/content/adjetivos_por_linha.xlsx\", index=False)\n",
    "\n",
    "print(\"✅ Tudo pronto! Arquivos gerados:\")\n",
    "print(\"- 📁 Nuvens salvas em: /content/nuvens_adjetivos\")\n",
    "print(\"- 📊 Ranking salvo em: /content/adjetivos_por_linha.xlsx\")\n"
   ]
  }
 ],
 "metadata": {},
 "nbformat": 4,
 "nbformat_minor": 5
}
