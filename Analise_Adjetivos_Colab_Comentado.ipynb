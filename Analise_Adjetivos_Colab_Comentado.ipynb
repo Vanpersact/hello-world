{
 "cells": [
  {
   "cell_type": "code",
   "execution_count": null,
   "id": "8cb2b13e",
   "metadata": {},
   "outputs": [],
   "source": [
    "# 📦 Instalar bibliotecas necessárias\n",
    "!pip install wordcloud pandas matplotlib\n"
   ]
  },
  {
   "cell_type": "code",
   "execution_count": null,
   "id": "8c00aeba",
   "metadata": {},
   "outputs": [],
   "source": [
    "# 📚 Importação de bibliotecas\n",
    "import pandas as pd\n",
    "from wordcloud import WordCloud\n",
    "import matplotlib.pyplot as plt\n",
    "from collections import defaultdict, Counter\n",
    "import os\n"
   ]
  },
  {
   "cell_type": "code",
   "execution_count": null,
   "id": "ad6df3c5",
   "metadata": {},
   "outputs": [],
   "source": [
    "# 📁 Carregar o arquivo de manifestações\n",
    "# Suba seu arquivo 'Manifestacoes_Abril2025.xlsx' para o Colab antes de rodar esta célula\n",
    "arquivo = '/content/Manifestacoes_Abril2025.xlsx'\n",
    "df = pd.read_excel(arquivo)\n"
   ]
  },
  {
   "cell_type": "code",
   "execution_count": null,
   "id": "8ca9a028",
   "metadata": {},
   "outputs": [],
   "source": [
    "# 🛠️ Ajuste de colunas, caso a primeira linha não seja o cabeçalho real\n",
    "if df.columns[0] != 'COD_MANIFESTACAO':\n",
    "    df.columns = df.iloc[0]\n",
    "    df = df[1:]\n",
    "    df.columns.name = None\n"
   ]
  },
  {
   "cell_type": "code",
   "execution_count": null,
   "id": "faf61785",
   "metadata": {},
   "outputs": [],
   "source": [
    "# 🏷️ Renomear colunas principais\n",
    "df = df.rename(columns={\n",
    "    \"COD_MANIFESTACAO\": \"COD_MANIFESTACAO\",\n",
    "    \"MOTIVO\": \"MOTIVO\",\n",
    "    \"DATA_MANIF\": \"DATA_MANIF\",\n",
    "    \"DIA_SEM\": \"DIA_SEM\",\n",
    "    \"DATA_OCOR\": \"DATA_OCOR\",\n",
    "    \"HORA_OCOR\": \"HORA_OCOR\",\n",
    "    \"LOCAL_REF\": \"LOCAL_REF\",\n",
    "    \"DESCRIÇÃO\": \"DESCRICAO\",\n",
    "    \"CLASSIFICACAO_MANIF\": \"CLASSIFICACAO_MANIF\",\n",
    "    df.columns[-1]: \"LINHA\"\n",
    "})\n"
   ]
  },
  {
   "cell_type": "code",
   "execution_count": null,
   "id": "e10452dc",
   "metadata": {},
   "outputs": [],
   "source": [
    "# ⏱️ Converter tipos de dados (datas e horas)\n",
    "df[\"HORA_OCOR\"] = pd.to_numeric(df[\"HORA_OCOR\"], errors='coerce')\n",
    "df[\"DATA_MANIF\"] = pd.to_datetime(df[\"DATA_MANIF\"], errors='coerce')\n",
    "df[\"DATA_OCOR\"] = pd.to_datetime(df[\"DATA_OCOR\"], errors='coerce')\n"
   ]
  },
  {
   "cell_type": "code",
   "execution_count": null,
   "id": "0fec36c4",
   "metadata": {},
   "outputs": [],
   "source": [
    "# 🎯 Filtrar apenas reclamações\n",
    "df_reclamacoes = df[df[\"CLASSIFICACAO_MANIF\"].str.upper() == \"RECLAMAÇÃO\"].copy()\n"
   ]
  },
  {
   "cell_type": "code",
   "execution_count": null,
   "id": "c58c8614",
   "metadata": {},
   "outputs": [],
   "source": [
    "# 📋 Lista simulada de adjetivos negativos usados nas descrições\n",
    "adjetivos_exemplo = [\n",
    "    'lento', 'sujo', 'barulhento', 'quente', 'frio', 'perigoso', 'velho', 'lotado', 'demorado',\n",
    "    'inseguro', 'desconfortável', 'escuro', 'caro', 'úmido', 'horrível', 'ruim', 'péssimo',\n",
    "    'fraco', 'frágil', 'instável', 'precário', 'ineficiente', 'insuficiente', 'revoltante',\n",
    "    'desumano', 'inaceitável', 'desagradável', 'injusto', 'problemático', 'difícil', 'caótico',\n",
    "    'quebrado', 'falho', 'irregular', 'frequente', 'inconstante', 'baixa', 'curto', 'agressivo',\n",
    "    'confuso', 'degradante', 'frustrante', 'impróprio', 'inadequado', 'insuportável', 'lamentável',\n",
    "    'mofado', 'obsoleto', 'pobre', 'saturado', 'sofrido', 'sufocante', 'tenso', 'triste', 'vazio',\n",
    "    'interminável', 'irresponsável', 'inoperante', 'defeituoso', 'danificado', 'parado', 'pior'\n",
    "]\n",
    "adjetivos_set = set([a.lower() for a in adjetivos_exemplo if len(a) >= 3])\n"
   ]
  },
  {
   "cell_type": "code",
   "execution_count": null,
   "id": "b193556d",
   "metadata": {},
   "outputs": [],
   "source": [
    "# 🧠 Coletar adjetivos encontrados nas reclamações por linha\n",
    "adjetivos_linha = defaultdict(list)\n",
    "for linha in df_reclamacoes[\"LINHA\"].unique():\n",
    "    descricoes = df_reclamacoes[df_reclamacoes[\"LINHA\"] == linha][\"DESCRICAO\"].dropna().astype(str).tolist()\n",
    "    palavras = \" \".join(descricoes).lower().split()\n",
    "    palavras_filtradas = [p for p in palavras if p in adjetivos_set]\n",
    "    adjetivos_linha[linha] = palavras_filtradas\n"
   ]
  },
  {
   "cell_type": "code",
   "execution_count": null,
   "id": "9e3d1d73",
   "metadata": {},
   "outputs": [],
   "source": [
    "# ☁️ Gerar nuvem de palavras por linha com base nos adjetivos\n",
    "output_folder = \"/content/nuvens_adjetivos\"\n",
    "os.makedirs(output_folder, exist_ok=True)\n",
    "\n",
    "for linha, lista_adjetivos in adjetivos_linha.items():\n",
    "    if len(lista_adjetivos) < 5:\n",
    "        continue\n",
    "    texto_final = \" \".join(lista_adjetivos)\n",
    "    wordcloud = WordCloud(\n",
    "        width=1000,\n",
    "        height=500,\n",
    "        background_color='white',\n",
    "        colormap='inferno',\n",
    "        max_words=100\n",
    "    ).generate(texto_final)\n",
    "    caminho = os.path.join(output_folder, f\"{linha.replace(' ', '_')}.png\")\n",
    "    wordcloud.to_file(caminho)\n"
   ]
  },
  {
   "cell_type": "code",
   "execution_count": null,
   "id": "163ea7f9",
   "metadata": {},
   "outputs": [],
   "source": [
    "# 📊 Gerar ranking completo de adjetivos por linha e salvar como Excel\n",
    "ranking_completo = []\n",
    "for linha, lista_adjetivos in adjetivos_linha.items():\n",
    "    contagem = Counter(lista_adjetivos)\n",
    "    for adjetivo, freq in contagem.items():\n",
    "        ranking_completo.append({\n",
    "            \"Linha\": linha,\n",
    "            \"Adjetivo\": adjetivo,\n",
    "            \"Frequência\": freq\n",
    "        })\n",
    "\n",
    "df_ranking = pd.DataFrame(ranking_completo).sort_values(by=[\"Linha\", \"Frequência\"], ascending=[True, False])\n",
    "df_ranking.to_excel(\"/content/adjetivos_por_linha.xlsx\", index=False)\n",
    "\n",
    "print(\"✅ Tudo pronto! As nuvens foram salvas na pasta /content/nuvens_adjetivos\")\n",
    "print(\"📊 O ranking completo está em: /content/adjetivos_por_linha.xlsx\")\n"
   ]
  }
 ],
 "metadata": {},
 "nbformat": 4,
 "nbformat_minor": 5
}
